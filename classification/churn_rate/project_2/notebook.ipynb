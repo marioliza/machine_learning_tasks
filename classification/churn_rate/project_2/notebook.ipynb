{
 "cells": [
  {
   "cell_type": "code",
   "execution_count": 1,
   "id": "initial_id",
   "metadata": {
    "collapsed": true,
    "ExecuteTime": {
     "end_time": "2024-05-14T03:13:32.498793Z",
     "start_time": "2024-05-14T03:13:31.922982300Z"
    }
   },
   "outputs": [],
   "source": [
    "import numpy as np\n",
    "import pandas as pd\n",
    "import os\n",
    "\n",
    "from sklearn import metrics\n",
    "from sklearn.model_selection import train_test_split, StratifiedShuffleSplit\n",
    "from sklearn.metrics import (\n",
    "    accuracy_score, classification_report, recall_score, confusion_matrix,\n",
    "    roc_auc_score, precision_score, f1_score, roc_curve, auc\n",
    ")\n",
    "from sklearn.preprocessing import OrdinalEncoder\n",
    "\n",
    "from catboost import CatBoostClassifier, Pool"
   ]
  },
  {
   "cell_type": "code",
   "execution_count": 2,
   "outputs": [],
   "source": [
    "df = pd.read_csv('telco.csv')"
   ],
   "metadata": {
    "collapsed": false,
    "ExecuteTime": {
     "end_time": "2024-05-14T03:14:14.302375700Z",
     "start_time": "2024-05-14T03:14:14.275195600Z"
    }
   },
   "id": "5a3c3012ef0d4db8"
  },
  {
   "cell_type": "code",
   "execution_count": 5,
   "outputs": [],
   "source": [
    "# Convert TotalCharges to numeric, filling NaN values\n",
    "df['TotalCharges'] = pd.to_numeric(df['TotalCharges'], errors='coerce')\n",
    "df['TotalCharges'].fillna(df['tenure'] * df['MonthlyCharges'], inplace=True)\n",
    "# Convert SeniorCitizen to object\n",
    "df['SeniorCitizen'] = df['SeniorCitizen'].astype(object)\n",
    "# Replace 'No phone service' and 'No internet service' with 'No' for certain columns\n",
    "df['MultipleLines'] = df['MultipleLines'].replace('No phone service', 'No')\n",
    "columns_to_replace = ['OnlineSecurity', 'OnlineBackup', 'DeviceProtection', 'TechSupport', 'StreamingTV', 'StreamingMovies']\n",
    "for column in columns_to_replace:\n",
    "    df[column] = df[column].replace('No internet service', 'No')\n",
    "\n",
    "# Convert 'Churn' categorical variable to numeric\n",
    "df['Churn'] = df['Churn'].replace({'No': 0, 'Yes': 1})"
   ],
   "metadata": {
    "collapsed": false,
    "ExecuteTime": {
     "end_time": "2024-05-14T03:17:27.210876700Z",
     "start_time": "2024-05-14T03:17:27.199103200Z"
    }
   },
   "id": "8d1a2d25066a5c15"
  },
  {
   "cell_type": "code",
   "execution_count": 6,
   "outputs": [],
   "source": [
    "# Create the StratifiedShuffleSplit object\n",
    "strat_split = StratifiedShuffleSplit(n_splits=1, test_size=0.2, random_state=64)\n",
    "\n",
    "train_index, test_index = next(strat_split.split(df, df[\"Churn\"]))\n",
    "\n",
    "\n",
    "# Create train and test sets\n",
    "strat_train_set = df.loc[train_index]\n",
    "strat_test_set = df.loc[test_index]\n",
    "\n",
    "X_train = strat_train_set.drop(\"Churn\", axis=1)\n",
    "y_train = strat_train_set[\"Churn\"].copy()\n",
    "\n",
    "X_test = strat_test_set.drop(\"Churn\", axis=1)\n",
    "y_test = strat_test_set[\"Churn\"].copy()"
   ],
   "metadata": {
    "collapsed": false,
    "ExecuteTime": {
     "end_time": "2024-05-14T03:24:36.539381900Z",
     "start_time": "2024-05-14T03:24:36.523245800Z"
    }
   },
   "id": "e7596917356c9fe8"
  },
  {
   "cell_type": "code",
   "execution_count": 7,
   "outputs": [
    {
     "data": {
      "text/plain": "<catboost.core.CatBoostClassifier at 0x210d90c3310>"
     },
     "execution_count": 7,
     "metadata": {},
     "output_type": "execute_result"
    }
   ],
   "source": [
    "# Identify categorical columns\n",
    "categorical_columns = df.select_dtypes(include=['object']).columns.tolist()\n",
    "\n",
    "# Initialize and fit CatBoostClassifier\n",
    "cat_model = CatBoostClassifier(verbose=False, random_state=0, scale_pos_weight=3)\n",
    "cat_model.fit(X_train, y_train, cat_features=categorical_columns, eval_set=(X_test, y_test))"
   ],
   "metadata": {
    "collapsed": false,
    "ExecuteTime": {
     "end_time": "2024-05-14T03:25:19.037477300Z",
     "start_time": "2024-05-14T03:24:48.456132900Z"
    }
   },
   "id": "29924823bf7a41ef"
  },
  {
   "cell_type": "code",
   "execution_count": 8,
   "outputs": [
    {
     "name": "stdout",
     "output_type": "stream",
     "text": [
      "                Accuracy  Recall  Roc_Auc  Precision\n",
      "CatBoost_Model    0.7764  0.8262   0.7923     0.5528\n"
     ]
    }
   ],
   "source": [
    "# Predict on test set\n",
    "y_pred = cat_model.predict(X_test)\n",
    "\n",
    "# Calculate evaluation metrics\n",
    "accuracy, recall, roc_auc, precision = [round(metric(y_test, y_pred), 4) for metric in [accuracy_score, recall_score, roc_auc_score, precision_score]]\n",
    "\n",
    "# Create a DataFrame to store results\n",
    "model_names = ['CatBoost_Model']\n",
    "result = pd.DataFrame({'Accuracy': accuracy, 'Recall': recall, 'Roc_Auc': roc_auc, 'Precision': precision}, index=model_names)\n",
    "\n",
    "# Print results\n",
    "print(result)\n",
    "\n",
    "# Save the model in the 'model' directory\n",
    "model_dir = \"/model\"\n",
    "if not os.path.exists(model_dir):\n",
    "    os.makedirs(model_dir)\n",
    "\n",
    "model_path = os.path.join(model_dir, \"catboost_model.cbm\")\n",
    "cat_model.save_model(model_path)"
   ],
   "metadata": {
    "collapsed": false,
    "ExecuteTime": {
     "end_time": "2024-05-14T03:25:30.247144500Z",
     "start_time": "2024-05-14T03:25:30.221590900Z"
    }
   },
   "id": "e36357c8bd8534b4"
  },
  {
   "cell_type": "code",
   "execution_count": 12,
   "outputs": [
    {
     "data": {
      "text/plain": "'/model\\\\catboost_model.cbm'"
     },
     "execution_count": 12,
     "metadata": {},
     "output_type": "execute_result"
    }
   ],
   "source": [
    "os.path.join(\"/model\", \"catboost_model.cbm\")"
   ],
   "metadata": {
    "collapsed": false,
    "ExecuteTime": {
     "end_time": "2024-05-14T03:35:43.540024900Z",
     "start_time": "2024-05-14T03:35:43.532969Z"
    }
   },
   "id": "576dd60549fb18d6"
  }
 ],
 "metadata": {
  "kernelspec": {
   "display_name": "Python 3",
   "language": "python",
   "name": "python3"
  },
  "language_info": {
   "codemirror_mode": {
    "name": "ipython",
    "version": 2
   },
   "file_extension": ".py",
   "mimetype": "text/x-python",
   "name": "python",
   "nbconvert_exporter": "python",
   "pygments_lexer": "ipython2",
   "version": "2.7.6"
  }
 },
 "nbformat": 4,
 "nbformat_minor": 5
}
