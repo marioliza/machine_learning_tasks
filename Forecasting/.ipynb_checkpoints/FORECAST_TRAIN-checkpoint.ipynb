{
 "cells": [
  {
   "cell_type": "code",
   "execution_count": 1,
   "id": "initial_id",
   "metadata": {
    "collapsed": true,
    "ExecuteTime": {
     "end_time": "2024-05-12T01:26:12.134835700Z",
     "start_time": "2024-05-12T01:26:11.281151700Z"
    }
   },
   "outputs": [
    {
     "data": {
      "text/html": "        <script type=\"text/javascript\">\n        window.PlotlyConfig = {MathJaxConfig: 'local'};\n        if (window.MathJax && window.MathJax.Hub && window.MathJax.Hub.Config) {window.MathJax.Hub.Config({SVG: {font: \"STIX-Web\"}});}\n        if (typeof require !== 'undefined') {\n        require.undef(\"plotly\");\n        requirejs.config({\n            paths: {\n                'plotly': ['https://cdn.plot.ly/plotly-2.32.0.min']\n            }\n        });\n        require(['plotly'], function(Plotly) {\n            window._Plotly = Plotly;\n        });\n        }\n        </script>\n        "
     },
     "metadata": {},
     "output_type": "display_data"
    }
   ],
   "source": [
    "import numpy as np\n",
    "import pandas as pd\n",
    "import matplotlib.pyplot as plt\n",
    "import seaborn as sns\n",
    "import datetime\n",
    "import math\n",
    "from scipy import stats\n",
    "import matplotlib.dates as mdates\n",
    "from plotly import tools\n",
    "import plotly.tools as tls\n",
    "import plotly.figure_factory as ff\n",
    "import plotly.graph_objs as go\n",
    "from plotly.offline import init_notebook_mode, plot, iplot\n",
    "import statsmodels.api as sm\n",
    "from statsmodels.tsa.seasonal import seasonal_decompose\n",
    "from statsmodels.tsa.stattools import adfuller\n",
    "from sklearn.metrics import mean_squared_error\n",
    "from statsmodels.tsa.arima.model import ARIMA\n",
    "from statsmodels.graphics.tsaplots import plot_acf, plot_pacf\n",
    "\n",
    "init_notebook_mode(connected=True)\n",
    "%matplotlib inline\n",
    "# matplotlib defaults\n",
    "plt.style.use(\"fivethirtyeight\")\n",
    "plt.rc(\"figure\", autolayout=True)\n",
    "plt.rc(\n",
    "    \"axes\",\n",
    "    labelweight=\"bold\",\n",
    "    labelsize=\"large\",\n",
    "    titleweight=\"bold\",\n",
    "    titlesize=14,\n",
    "    titlepad=10,\n",
    ")\n",
    "import warnings\n",
    "warnings.filterwarnings(\"ignore\")"
   ]
  },
  {
   "cell_type": "code",
   "execution_count": 3,
   "outputs": [],
   "source": [
    "import mplfinance as mpf\n",
    "from prophet import Prophet\n",
    "from prophet.plot import plot_plotly, add_changepoints_to_plot\n",
    "import pmdarima as pm\n",
    "from pmdarima.arima.utils import ndiffs"
   ],
   "metadata": {
    "collapsed": false,
    "ExecuteTime": {
     "end_time": "2024-05-12T01:26:25.363883400Z",
     "start_time": "2024-05-12T01:26:25.241065100Z"
    }
   },
   "id": "77320110ec3d6d4e"
  },
  {
   "cell_type": "code",
   "execution_count": 6,
   "outputs": [
    {
     "data": {
      "text/plain": "<pandas.io.formats.style.Styler at 0x7f77d9cb3ee0>",
      "text/html": "<style type=\"text/css\">\n#T_d01de_row0_col0, #T_d01de_row0_col1, #T_d01de_row0_col2, #T_d01de_row0_col3, #T_d01de_row0_col4, #T_d01de_row1_col0, #T_d01de_row1_col1, #T_d01de_row1_col2, #T_d01de_row1_col3, #T_d01de_row1_col4, #T_d01de_row2_col0, #T_d01de_row2_col1, #T_d01de_row2_col2, #T_d01de_row2_col3, #T_d01de_row2_col4, #T_d01de_row3_col0, #T_d01de_row3_col1, #T_d01de_row3_col2, #T_d01de_row3_col3, #T_d01de_row3_col4, #T_d01de_row4_col0, #T_d01de_row4_col1, #T_d01de_row4_col2, #T_d01de_row4_col3, #T_d01de_row4_col4 {\n  background-color: black;\n  color: lawngreen;\n  border: 1.5px  white;\n}\n</style>\n<table id=\"T_d01de\">\n  <thead>\n    <tr>\n      <th class=\"blank level0\" >&nbsp;</th>\n      <th id=\"T_d01de_level0_col0\" class=\"col_heading level0 col0\" >Canal</th>\n      <th id=\"T_d01de_level0_col1\" class=\"col_heading level0 col1\" >Nit_Cliente</th>\n      <th id=\"T_d01de_level0_col2\" class=\"col_heading level0 col2\" >Razon_Social_Cliente</th>\n      <th id=\"T_d01de_level0_col3\" class=\"col_heading level0 col3\" >Fecha</th>\n      <th id=\"T_d01de_level0_col4\" class=\"col_heading level0 col4\" >COP</th>\n    </tr>\n  </thead>\n  <tbody>\n    <tr>\n      <th id=\"T_d01de_level0_row0\" class=\"row_heading level0 row0\" >0</th>\n      <td id=\"T_d01de_row0_col0\" class=\"data row0 col0\" >Canal Droguerias</td>\n      <td id=\"T_d01de_row0_col1\" class=\"data row0 col1\" >800052534</td>\n      <td id=\"T_d01de_row0_col2\" class=\"data row0 col2\" >Distribuciones Axa Sas</td>\n      <td id=\"T_d01de_row0_col3\" class=\"data row0 col3\" >2019-06-01</td>\n      <td id=\"T_d01de_row0_col4\" class=\"data row0 col4\" >123303381.000000</td>\n    </tr>\n    <tr>\n      <th id=\"T_d01de_level0_row1\" class=\"row_heading level0 row1\" >1</th>\n      <td id=\"T_d01de_row1_col0\" class=\"data row1 col0\" >Canal Droguerias</td>\n      <td id=\"T_d01de_row1_col1\" class=\"data row1 col1\" >800052534</td>\n      <td id=\"T_d01de_row1_col2\" class=\"data row1 col2\" >Distribuciones Axa Sas</td>\n      <td id=\"T_d01de_row1_col3\" class=\"data row1 col3\" >2019-08-01</td>\n      <td id=\"T_d01de_row1_col4\" class=\"data row1 col4\" >56887238.000000</td>\n    </tr>\n    <tr>\n      <th id=\"T_d01de_level0_row2\" class=\"row_heading level0 row2\" >2</th>\n      <td id=\"T_d01de_row2_col0\" class=\"data row2 col0\" >Canal Droguerias</td>\n      <td id=\"T_d01de_row2_col1\" class=\"data row2 col1\" >800052534</td>\n      <td id=\"T_d01de_row2_col2\" class=\"data row2 col2\" >Distribuciones Axa Sas</td>\n      <td id=\"T_d01de_row2_col3\" class=\"data row2 col3\" >2019-10-01</td>\n      <td id=\"T_d01de_row2_col4\" class=\"data row2 col4\" >66770925.000000</td>\n    </tr>\n    <tr>\n      <th id=\"T_d01de_level0_row3\" class=\"row_heading level0 row3\" >3</th>\n      <td id=\"T_d01de_row3_col0\" class=\"data row3 col0\" >Canal Droguerias</td>\n      <td id=\"T_d01de_row3_col1\" class=\"data row3 col1\" >800052534</td>\n      <td id=\"T_d01de_row3_col2\" class=\"data row3 col2\" >Distribuciones Axa Sas</td>\n      <td id=\"T_d01de_row3_col3\" class=\"data row3 col3\" >2019-12-01</td>\n      <td id=\"T_d01de_row3_col4\" class=\"data row3 col4\" >92460422.000000</td>\n    </tr>\n    <tr>\n      <th id=\"T_d01de_level0_row4\" class=\"row_heading level0 row4\" >4</th>\n      <td id=\"T_d01de_row4_col0\" class=\"data row4 col0\" >Canal Droguerias</td>\n      <td id=\"T_d01de_row4_col1\" class=\"data row4 col1\" >800052534</td>\n      <td id=\"T_d01de_row4_col2\" class=\"data row4 col2\" >Distribuciones Axa Sas</td>\n      <td id=\"T_d01de_row4_col3\" class=\"data row4 col3\" >2020-04-01</td>\n      <td id=\"T_d01de_row4_col4\" class=\"data row4 col4\" >91044613.000000</td>\n    </tr>\n  </tbody>\n</table>\n"
     },
     "execution_count": 6,
     "metadata": {},
     "output_type": "execute_result"
    }
   ],
   "source": [
    "df = pd.read_excel(\"forecasting.xlsx\")\n",
    "df.head().style.set_properties(**{'background-color': 'black',\n",
    "                                  'color': 'lawngreen',\n",
    "                                  'border': '1.5px  white'})"
   ],
   "metadata": {
    "collapsed": false,
    "ExecuteTime": {
     "end_time": "2024-05-12T01:29:59.110578300Z",
     "start_time": "2024-05-12T01:29:58.949050300Z"
    }
   },
   "id": "533c4fea44e89d69"
  }
 ],
 "metadata": {
  "kernelspec": {
   "display_name": "Python 3",
   "language": "python",
   "name": "python3"
  },
  "language_info": {
   "codemirror_mode": {
    "name": "ipython",
    "version": 2
   },
   "file_extension": ".py",
   "mimetype": "text/x-python",
   "name": "python",
   "nbconvert_exporter": "python",
   "pygments_lexer": "ipython2",
   "version": "2.7.6"
  }
 },
 "nbformat": 4,
 "nbformat_minor": 5
}
